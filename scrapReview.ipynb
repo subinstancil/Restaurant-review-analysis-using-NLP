{
 "cells": [
  {
   "cell_type": "code",
   "execution_count": null,
   "metadata": {},
   "outputs": [],
   "source": [
    "!pip install requests\n",
    "!pip install bs4\n",
    "!pip install python-csv\n",
    "!pip install selenium"
   ]
  },
  {
   "cell_type": "code",
   "execution_count": 1,
   "metadata": {
    "scrolled": true
   },
   "outputs": [],
   "source": [
    "import requests \n",
    "from bs4 import BeautifulSoup \n",
    "import csv \n",
    "import re\n",
    "from selenium import webdriver\n",
    "import os\n",
    "import time"
   ]
  },
  {
   "cell_type": "code",
   "execution_count": 2,
   "metadata": {},
   "outputs": [],
   "source": [
    "listOfUrls = []\n",
    "listOfUrls.append('https://www.tripadvisor.in/Restaurant_Review-g297637-d5922318-Reviews-Mothers_Veg_Plaza-Thiruvananthapuram_Trivandrum_Thiruvananthapuram_District_Keral.html')\n",
    "listOfUrls.append('https://www.tripadvisor.in/Restaurant_Review-g297637-d2734384-Reviews-Ariya_Nivaas-Thiruvananthapuram_Trivandrum_Thiruvananthapuram_District_Kerala.html')\n",
    "listOfUrls.append('https://www.tripadvisor.in/Restaurant_Review-g297637-d3677339-Reviews-Arul_Jyothi-Thiruvananthapuram_Trivandrum_Thiruvananthapuram_District_Kerala.html')\n",
    "listOfUrls.append('https://www.tripadvisor.in/Restaurant_Review-g297637-d4493572-Reviews-Ajwa-Thiruvananthapuram_Trivandrum_Thiruvananthapuram_District_Kerala.html')\n",
    "listOfUrls.append('https://www.tripadvisor.in/Restaurant_Review-g297637-d7242432-Reviews-Cafe_Jade-Thiruvananthapuram_Trivandrum_Thiruvananthapuram_District_Kerala.html')\n",
    "listOfUrls.append('https://www.tripadvisor.in/Restaurant_Review-g297637-d3632781-Reviews-Zam_Zam_Restaurant-Thiruvananthapuram_Trivandrum_Thiruvananthapuram_District_Kera.html')\n",
    "listOfUrls.append('https://www.tripadvisor.in/Restaurant_Review-g297637-d6706468-Reviews-Garden_Grille_Restaurant-Thiruvananthapuram_Trivandrum_Thiruvananthapuram_Distric.html')\n",
    "listOfUrls.append('https://www.tripadvisor.in/Restaurant_Review-g297637-d1202065-Reviews-Indian_Coffee_House-Thiruvananthapuram_Trivandrum_Thiruvananthapuram_District_Ker.html')\n",
    "listOfUrls.append('https://www.tripadvisor.in/Restaurant_Review-g297637-d7995343-Reviews-Thakkaaram-Thiruvananthapuram_Trivandrum_Thiruvananthapuram_District_Kerala.html')\n",
    "listOfUrls.append('https://www.tripadvisor.in/Restaurant_Review-g297637-d3493926-Reviews-Villa_Maya-Thiruvananthapuram_Trivandrum_Thiruvananthapuram_District_Kerala.html')"
   ]
  },
  {
   "cell_type": "code",
   "execution_count": 3,
   "metadata": {},
   "outputs": [
    {
     "name": "stdout",
     "output_type": "stream",
     "text": [
      "Lunch at Mothers Veg Plaza is an experience not to be missed at Trivandrum. The waiters are extremely hospitable. generous servings. Widespread variety of dishes. 4 different payasams (desserts). VERY REASONABLY PRICED.\n",
      "\n",
      "\n",
      "\n",
      "\n",
      "\n",
      "\n",
      "My first visit for the lunch meal/thali/sadya was on Thiru Onam (September, 2019). I thought the meal was just special on that day.\n",
      "\n",
      "Today, I went again. Once again, the sadya was simply special---that too, with four payasams! Apart from that, 4 pickles, 4 curd-based curries, 4 vegetable dishes, banana-chips-n-jaggery savoury, papad, banana, choice of white or chamba rice, parippu/dal with as much ghee you want, sambhar, buttermilk, moru and rasam. All unlimited, even payasam. Have I missed anything?\n",
      "\n",
      "But, what stood out today is the service. Do you know another place (packed with people) where the owner attends to customers? He even brought a basket of papads for us when he saw that one of us enjoyed papad with payasam. We did not even ask for it. His employees/colleagues seemed to share the same enthusiasm, right down to the person assisting at the car park in front. They were that attentive. They brought extra bananas, served with a smile, even had time to joke with us, made sure we enjoyed a Kerala sadya the way it should be enjoyed. I have never felt so satisfied at a place.\n",
      "exit\n",
      "Message: chrome not reachable\n",
      "  (Session info: chrome=78.0.3904.87)\n",
      "\n"
     ]
    },
    {
     "ename": "WebDriverException",
     "evalue": "Message: chrome not reachable\n  (Session info: chrome=78.0.3904.87)\n",
     "output_type": "error",
     "traceback": [
      "\u001b[0;31m---------------------------------------------------------------------------\u001b[0m",
      "\u001b[0;31mWebDriverException\u001b[0m                        Traceback (most recent call last)",
      "\u001b[0;32m<ipython-input-3-1f4991c1c13a>\u001b[0m in \u001b[0;36m<module>\u001b[0;34m\u001b[0m\n\u001b[1;32m     11\u001b[0m     \u001b[0;32mwhile\u001b[0m \u001b[0;32mTrue\u001b[0m\u001b[0;34m:\u001b[0m\u001b[0;34m\u001b[0m\u001b[0;34m\u001b[0m\u001b[0m\n\u001b[1;32m     12\u001b[0m         \u001b[0murl\u001b[0m\u001b[0;34m=\u001b[0m\u001b[0mfound\u001b[0m\u001b[0;34m\u001b[0m\u001b[0;34m\u001b[0m\u001b[0m\n\u001b[0;32m---> 13\u001b[0;31m         \u001b[0mdriver\u001b[0m\u001b[0;34m.\u001b[0m\u001b[0mget\u001b[0m\u001b[0;34m(\u001b[0m\u001b[0murl\u001b[0m\u001b[0;34m)\u001b[0m\u001b[0;34m\u001b[0m\u001b[0;34m\u001b[0m\u001b[0m\n\u001b[0m\u001b[1;32m     14\u001b[0m         \u001b[0;32mtry\u001b[0m\u001b[0;34m:\u001b[0m\u001b[0;34m\u001b[0m\u001b[0;34m\u001b[0m\u001b[0m\n\u001b[1;32m     15\u001b[0m             \u001b[0mdriver\u001b[0m\u001b[0;34m.\u001b[0m\u001b[0mfind_element_by_class_name\u001b[0m\u001b[0;34m(\u001b[0m\u001b[0;34m'ulBlueLinks'\u001b[0m\u001b[0;34m)\u001b[0m\u001b[0;34m.\u001b[0m\u001b[0mclick\u001b[0m\u001b[0;34m(\u001b[0m\u001b[0;34m)\u001b[0m\u001b[0;34m\u001b[0m\u001b[0;34m\u001b[0m\u001b[0m\n",
      "\u001b[0;32m~/anaconda3/envs/nanodegree/lib/python3.7/site-packages/selenium/webdriver/remote/webdriver.py\u001b[0m in \u001b[0;36mget\u001b[0;34m(self, url)\u001b[0m\n\u001b[1;32m    331\u001b[0m         \u001b[0mLoads\u001b[0m \u001b[0ma\u001b[0m \u001b[0mweb\u001b[0m \u001b[0mpage\u001b[0m \u001b[0;32min\u001b[0m \u001b[0mthe\u001b[0m \u001b[0mcurrent\u001b[0m \u001b[0mbrowser\u001b[0m \u001b[0msession\u001b[0m\u001b[0;34m.\u001b[0m\u001b[0;34m\u001b[0m\u001b[0;34m\u001b[0m\u001b[0m\n\u001b[1;32m    332\u001b[0m         \"\"\"\n\u001b[0;32m--> 333\u001b[0;31m         \u001b[0mself\u001b[0m\u001b[0;34m.\u001b[0m\u001b[0mexecute\u001b[0m\u001b[0;34m(\u001b[0m\u001b[0mCommand\u001b[0m\u001b[0;34m.\u001b[0m\u001b[0mGET\u001b[0m\u001b[0;34m,\u001b[0m \u001b[0;34m{\u001b[0m\u001b[0;34m'url'\u001b[0m\u001b[0;34m:\u001b[0m \u001b[0murl\u001b[0m\u001b[0;34m}\u001b[0m\u001b[0;34m)\u001b[0m\u001b[0;34m\u001b[0m\u001b[0;34m\u001b[0m\u001b[0m\n\u001b[0m\u001b[1;32m    334\u001b[0m \u001b[0;34m\u001b[0m\u001b[0m\n\u001b[1;32m    335\u001b[0m     \u001b[0;34m@\u001b[0m\u001b[0mproperty\u001b[0m\u001b[0;34m\u001b[0m\u001b[0;34m\u001b[0m\u001b[0m\n",
      "\u001b[0;32m~/anaconda3/envs/nanodegree/lib/python3.7/site-packages/selenium/webdriver/remote/webdriver.py\u001b[0m in \u001b[0;36mexecute\u001b[0;34m(self, driver_command, params)\u001b[0m\n\u001b[1;32m    319\u001b[0m         \u001b[0mresponse\u001b[0m \u001b[0;34m=\u001b[0m \u001b[0mself\u001b[0m\u001b[0;34m.\u001b[0m\u001b[0mcommand_executor\u001b[0m\u001b[0;34m.\u001b[0m\u001b[0mexecute\u001b[0m\u001b[0;34m(\u001b[0m\u001b[0mdriver_command\u001b[0m\u001b[0;34m,\u001b[0m \u001b[0mparams\u001b[0m\u001b[0;34m)\u001b[0m\u001b[0;34m\u001b[0m\u001b[0;34m\u001b[0m\u001b[0m\n\u001b[1;32m    320\u001b[0m         \u001b[0;32mif\u001b[0m \u001b[0mresponse\u001b[0m\u001b[0;34m:\u001b[0m\u001b[0;34m\u001b[0m\u001b[0;34m\u001b[0m\u001b[0m\n\u001b[0;32m--> 321\u001b[0;31m             \u001b[0mself\u001b[0m\u001b[0;34m.\u001b[0m\u001b[0merror_handler\u001b[0m\u001b[0;34m.\u001b[0m\u001b[0mcheck_response\u001b[0m\u001b[0;34m(\u001b[0m\u001b[0mresponse\u001b[0m\u001b[0;34m)\u001b[0m\u001b[0;34m\u001b[0m\u001b[0;34m\u001b[0m\u001b[0m\n\u001b[0m\u001b[1;32m    322\u001b[0m             response['value'] = self._unwrap_value(\n\u001b[1;32m    323\u001b[0m                 response.get('value', None))\n",
      "\u001b[0;32m~/anaconda3/envs/nanodegree/lib/python3.7/site-packages/selenium/webdriver/remote/errorhandler.py\u001b[0m in \u001b[0;36mcheck_response\u001b[0;34m(self, response)\u001b[0m\n\u001b[1;32m    240\u001b[0m                 \u001b[0malert_text\u001b[0m \u001b[0;34m=\u001b[0m \u001b[0mvalue\u001b[0m\u001b[0;34m[\u001b[0m\u001b[0;34m'alert'\u001b[0m\u001b[0;34m]\u001b[0m\u001b[0;34m.\u001b[0m\u001b[0mget\u001b[0m\u001b[0;34m(\u001b[0m\u001b[0;34m'text'\u001b[0m\u001b[0;34m)\u001b[0m\u001b[0;34m\u001b[0m\u001b[0;34m\u001b[0m\u001b[0m\n\u001b[1;32m    241\u001b[0m             \u001b[0;32mraise\u001b[0m \u001b[0mexception_class\u001b[0m\u001b[0;34m(\u001b[0m\u001b[0mmessage\u001b[0m\u001b[0;34m,\u001b[0m \u001b[0mscreen\u001b[0m\u001b[0;34m,\u001b[0m \u001b[0mstacktrace\u001b[0m\u001b[0;34m,\u001b[0m \u001b[0malert_text\u001b[0m\u001b[0;34m)\u001b[0m\u001b[0;34m\u001b[0m\u001b[0;34m\u001b[0m\u001b[0m\n\u001b[0;32m--> 242\u001b[0;31m         \u001b[0;32mraise\u001b[0m \u001b[0mexception_class\u001b[0m\u001b[0;34m(\u001b[0m\u001b[0mmessage\u001b[0m\u001b[0;34m,\u001b[0m \u001b[0mscreen\u001b[0m\u001b[0;34m,\u001b[0m \u001b[0mstacktrace\u001b[0m\u001b[0;34m)\u001b[0m\u001b[0;34m\u001b[0m\u001b[0;34m\u001b[0m\u001b[0m\n\u001b[0m\u001b[1;32m    243\u001b[0m \u001b[0;34m\u001b[0m\u001b[0m\n\u001b[1;32m    244\u001b[0m     \u001b[0;32mdef\u001b[0m \u001b[0m_value_or_default\u001b[0m\u001b[0;34m(\u001b[0m\u001b[0mself\u001b[0m\u001b[0;34m,\u001b[0m \u001b[0mobj\u001b[0m\u001b[0;34m,\u001b[0m \u001b[0mkey\u001b[0m\u001b[0;34m,\u001b[0m \u001b[0mdefault\u001b[0m\u001b[0;34m)\u001b[0m\u001b[0;34m:\u001b[0m\u001b[0;34m\u001b[0m\u001b[0;34m\u001b[0m\u001b[0m\n",
      "\u001b[0;31mWebDriverException\u001b[0m: Message: chrome not reachable\n  (Session info: chrome=78.0.3904.87)\n"
     ]
    }
   ],
   "source": [
    "chromedriver = \"./chromedriver\"\n",
    "os.environ[\"webdriver.chrome.driver\"] = chromedriver\n",
    "driver = webdriver.Chrome(chromedriver)\n",
    "f = open(\"a.txt\",\"a\")\n",
    "lis = []\n",
    "count = 1\n",
    "for found in listOfUrls:\n",
    "    filename = str(count)+\".txt\"\n",
    "    count+=1\n",
    "    filepointer = open(filename,\"a\")\n",
    "    while True:\n",
    "        url=found\n",
    "        driver.get(url)\n",
    "        try:\n",
    "            driver.find_element_by_class_name('ulBlueLinks').click()\n",
    "            time.sleep(2)\n",
    "            all_spans = driver.find_elements_by_xpath(\"//p[@class='partial_entry']\")\n",
    "            for span in all_spans:\n",
    "                print(span.text)\n",
    "                st = span.text\n",
    "                st = st.replace('\\n', ' ').replace('\\r', '')\n",
    "                lis.append(st)\n",
    "                print(\"\\n\\n\\n\\n\\n\")\n",
    "\n",
    "\n",
    "            for i in lis:\n",
    "                f.write(str(i))\n",
    "                filepointer.write(str(i))\n",
    "                f.write(\"\\n\")\n",
    "                filepointer.write(\"\\n\")\n",
    "\n",
    "            driver.find_element_by_class_name('next').click()\n",
    "            found=driver.current_url\n",
    "\n",
    "        except Exception as e:\n",
    "            print(\"exit\")\n",
    "            print(e)\n",
    "            break\n",
    "    filepointer.close()\n",
    "    \n",
    "f.close()\n",
    "\n"
   ]
  },
  {
   "cell_type": "code",
   "execution_count": 20,
   "metadata": {},
   "outputs": [],
   "source": [
    "# chromedriver = \"./chromedriver\"\n",
    "# os.environ[\"webdriver.chrome.driver\"] = chromedriver\n",
    "# driver = webdriver.Chrome(chromedriver)\n",
    "# found = \"https://www.tripadvisor.in/Restaurant_Review-g297637-d3493926-Reviews-or1210-Villa_Maya-Thiruvananthapuram_Trivandrum_Thiruvananthapuram_District_Kerala.html\"\n",
    "\n",
    "# found=\"https://www.tripadvisor.in/Restaurant_Review-g297637-d3493926-Reviews-Villa_Maya-Thiruvananthapuram_Trivandrum_Thiruvananthapuram_District_Kerala.html\"\n",
    "# f = open(\"a.txt\",\"a\")\n",
    "# lis = []\n",
    "# while True:\n",
    "#     url=found\n",
    "# Sashi Jacob\n",
    "\n",
    "#     driver.get(url)\n",
    "#     try:\n",
    "#         driver.find_element_by_class_name('ulBlueLinks').click()\n",
    "#         time.sleep(5)\n",
    "#         all_spans = driver.find_elements_by_xpath(\"//p[@class='partial_entry']\")\n",
    "#         for span in all_spans:\n",
    "#             print(span.text)\n",
    "#             st = span.text\n",
    "#             st = st.replace('\\n', ' ').replace('\\r', '')\n",
    "#             lis.append(st)\n",
    "#             print(\"\\n\\n\\n\\n\\n\")\n",
    "        \n",
    "\n",
    "#         for i in lis:\n",
    "#             f.write(str(i))\n",
    "#             f.write(\"\\n\")\n",
    "        \n",
    "#         driver.find_element_by_class_name('next').click()\n",
    "#         found=driver.current_url\n",
    "        \n",
    "#     except Exception as e:\n",
    "#         print(\"exit\")\n",
    "#         print(e)\n",
    "#         break\n",
    "    \n",
    "# f.close()\n",
    "\n"
   ]
  },
  {
   "cell_type": "code",
   "execution_count": null,
   "metadata": {},
   "outputs": [],
   "source": []
  }
 ],
 "metadata": {
  "kernelspec": {
   "display_name": "Python 3",
   "language": "python",
   "name": "python3"
  },
  "language_info": {
   "codemirror_mode": {
    "name": "ipython",
    "version": 3
   },
   "file_extension": ".py",
   "mimetype": "text/x-python",
   "name": "python",
   "nbconvert_exporter": "python",
   "pygments_lexer": "ipython3",
   "version": "3.7.4"
  }
 },
 "nbformat": 4,
 "nbformat_minor": 2
}
